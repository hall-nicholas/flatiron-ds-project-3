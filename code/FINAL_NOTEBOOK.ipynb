{
 "cells": [
  {
   "cell_type": "code",
   "execution_count": 1,
   "metadata": {},
   "outputs": [],
   "source": [
    "import pandas as pd\n",
    "import numpy as np\n",
    "import matplotlib.pyplot as plt\n",
    "import matplotlib.ticker as mtick\n",
    "import seaborn as sns\n",
    "from sklearn.model_selection import train_test_split, cross_validate, GridSearchCV\n",
    "from sklearn.pipeline import Pipeline\n",
    "from sklearn.compose import ColumnTransformer\n",
    "from sklearn.impute import SimpleImputer\n",
    "from sklearn.dummy import DummyClassifier\n",
    "from sklearn.metrics import recall_score, accuracy_score, plot_confusion_matrix, roc_curve, auc, RocCurveDisplay\n",
    "from sklearn.preprocessing import OneHotEncoder,StandardScaler, OrdinalEncoder\n",
    "from sklearn.tree import DecisionTreeClassifier\n",
    "from sklearn.ensemble import RandomForestClassifier\n",
    "from sklearn.neighbors import KNeighborsClassifier\n",
    "from sklearn.linear_model import LogisticRegression\n",
    "from joblib import load\n",
    "\n",
    "from functions import load_clean_XY"
   ]
  },
  {
   "cell_type": "markdown",
   "metadata": {},
   "source": [
    "# Predicting & understanding water pump failures for the Tanzanian Ministry of Water\n",
    "<hr>\n",
    "<br/>\n",
    "\n",
    "Team members:\n",
    "<ul/>\n",
    "  <li/>Ahmad Samiee</li>\n",
    "  <li/>Nick Hall</li>\n",
    "</ul>"
   ]
  },
  {
   "cell_type": "markdown",
   "metadata": {},
   "source": [
    "###### NOTE: Refer to the README.md for information on where to obtain the data"
   ]
  },
  {
   "cell_type": "markdown",
   "metadata": {},
   "source": [
    "### Table of Contents\n",
    "<ol/>\n",
    "  <li/>Business Objective</li>\n",
    "  <li/>Data Preparation & Model Building</li>\n",
    "  <ol/>\n",
    "    <li/>Ahmad</li>\n",
    "    <li/>Nick</li>\n",
    "  </ol>\n",
    "  <li/>Evaluation</li>\n",
    "</ol>"
   ]
  },
  {
   "cell_type": "markdown",
   "metadata": {},
   "source": [
    "### Business Objective\n",
    "\n",
    "With this project, our team set out to build a model that could <b/>1)</b> accurately predict failures and repair needs of water pumps across Tanzania, as well as <b/>2)</b> understand <i/>why</i> these pumps were failing. With this information, we aimed to provide the model to the Tanzanian Ministry of Water for their own use, as well as inform them of potential ways these numbers can be reduced in the future.\n",
    "\n",
    "We decided to use <b/>recall</b> as our primary metric for model success, since our aim was to capture as many broken/in-disrepair wells as possible, as what is most important is to ensure those who need clean drinking water have access to it. We also used <b/>accuracy</b> as a secondary metric to judge our models."
   ]
  },
  {
   "cell_type": "markdown",
   "metadata": {},
   "source": [
    "### Data Preparation & Model Building\n",
    "\n",
    "To tackle this problem, our team decided it would be best to prepare the data and create models individually, then compare our models' metrics against each other."
   ]
  },
  {
   "cell_type": "markdown",
   "metadata": {},
   "source": [
    "#### Ahmad"
   ]
  },
  {
   "cell_type": "code",
   "execution_count": 2,
   "metadata": {},
   "outputs": [
    {
     "data": {
      "text/html": [
       "<div>\n",
       "<style scoped>\n",
       "    .dataframe tbody tr th:only-of-type {\n",
       "        vertical-align: middle;\n",
       "    }\n",
       "\n",
       "    .dataframe tbody tr th {\n",
       "        vertical-align: top;\n",
       "    }\n",
       "\n",
       "    .dataframe thead th {\n",
       "        text-align: right;\n",
       "    }\n",
       "</style>\n",
       "<table border=\"1\" class=\"dataframe\">\n",
       "  <thead>\n",
       "    <tr style=\"text-align: right;\">\n",
       "      <th></th>\n",
       "      <th>id</th>\n",
       "      <th>amount_tsh</th>\n",
       "      <th>date_recorded</th>\n",
       "      <th>funder</th>\n",
       "      <th>gps_height</th>\n",
       "      <th>installer</th>\n",
       "      <th>longitude</th>\n",
       "      <th>latitude</th>\n",
       "      <th>wpt_name</th>\n",
       "      <th>num_private</th>\n",
       "      <th>...</th>\n",
       "      <th>water_quality</th>\n",
       "      <th>quality_group</th>\n",
       "      <th>quantity</th>\n",
       "      <th>quantity_group</th>\n",
       "      <th>source</th>\n",
       "      <th>source_type</th>\n",
       "      <th>source_class</th>\n",
       "      <th>waterpoint_type</th>\n",
       "      <th>waterpoint_type_group</th>\n",
       "      <th>status_group</th>\n",
       "    </tr>\n",
       "  </thead>\n",
       "  <tbody>\n",
       "    <tr>\n",
       "      <th>0</th>\n",
       "      <td>69572</td>\n",
       "      <td>6000.0</td>\n",
       "      <td>2011-03-14</td>\n",
       "      <td>Roman</td>\n",
       "      <td>1390</td>\n",
       "      <td>Roman</td>\n",
       "      <td>34.938093</td>\n",
       "      <td>-9.856322</td>\n",
       "      <td>none</td>\n",
       "      <td>0</td>\n",
       "      <td>...</td>\n",
       "      <td>soft</td>\n",
       "      <td>good</td>\n",
       "      <td>enough</td>\n",
       "      <td>enough</td>\n",
       "      <td>spring</td>\n",
       "      <td>spring</td>\n",
       "      <td>groundwater</td>\n",
       "      <td>communal standpipe</td>\n",
       "      <td>communal standpipe</td>\n",
       "      <td>functional</td>\n",
       "    </tr>\n",
       "    <tr>\n",
       "      <th>1</th>\n",
       "      <td>8776</td>\n",
       "      <td>0.0</td>\n",
       "      <td>2013-03-06</td>\n",
       "      <td>Grumeti</td>\n",
       "      <td>1399</td>\n",
       "      <td>GRUMETI</td>\n",
       "      <td>34.698766</td>\n",
       "      <td>-2.147466</td>\n",
       "      <td>Zahanati</td>\n",
       "      <td>0</td>\n",
       "      <td>...</td>\n",
       "      <td>soft</td>\n",
       "      <td>good</td>\n",
       "      <td>insufficient</td>\n",
       "      <td>insufficient</td>\n",
       "      <td>rainwater harvesting</td>\n",
       "      <td>rainwater harvesting</td>\n",
       "      <td>surface</td>\n",
       "      <td>communal standpipe</td>\n",
       "      <td>communal standpipe</td>\n",
       "      <td>functional</td>\n",
       "    </tr>\n",
       "    <tr>\n",
       "      <th>2</th>\n",
       "      <td>34310</td>\n",
       "      <td>25.0</td>\n",
       "      <td>2013-02-25</td>\n",
       "      <td>Lottery Club</td>\n",
       "      <td>686</td>\n",
       "      <td>World vision</td>\n",
       "      <td>37.460664</td>\n",
       "      <td>-3.821329</td>\n",
       "      <td>Kwa Mahundi</td>\n",
       "      <td>0</td>\n",
       "      <td>...</td>\n",
       "      <td>soft</td>\n",
       "      <td>good</td>\n",
       "      <td>enough</td>\n",
       "      <td>enough</td>\n",
       "      <td>dam</td>\n",
       "      <td>dam</td>\n",
       "      <td>surface</td>\n",
       "      <td>communal standpipe multiple</td>\n",
       "      <td>communal standpipe</td>\n",
       "      <td>functional</td>\n",
       "    </tr>\n",
       "    <tr>\n",
       "      <th>3</th>\n",
       "      <td>67743</td>\n",
       "      <td>0.0</td>\n",
       "      <td>2013-01-28</td>\n",
       "      <td>Unicef</td>\n",
       "      <td>263</td>\n",
       "      <td>UNICEF</td>\n",
       "      <td>38.486161</td>\n",
       "      <td>-11.155298</td>\n",
       "      <td>Zahanati Ya Nanyumbu</td>\n",
       "      <td>0</td>\n",
       "      <td>...</td>\n",
       "      <td>soft</td>\n",
       "      <td>good</td>\n",
       "      <td>dry</td>\n",
       "      <td>dry</td>\n",
       "      <td>machine dbh</td>\n",
       "      <td>borehole</td>\n",
       "      <td>groundwater</td>\n",
       "      <td>communal standpipe multiple</td>\n",
       "      <td>communal standpipe</td>\n",
       "      <td>non functional</td>\n",
       "    </tr>\n",
       "    <tr>\n",
       "      <th>4</th>\n",
       "      <td>19728</td>\n",
       "      <td>0.0</td>\n",
       "      <td>2011-07-13</td>\n",
       "      <td>Action In A</td>\n",
       "      <td>0</td>\n",
       "      <td>Artisan</td>\n",
       "      <td>31.130847</td>\n",
       "      <td>-1.825359</td>\n",
       "      <td>Shuleni</td>\n",
       "      <td>0</td>\n",
       "      <td>...</td>\n",
       "      <td>soft</td>\n",
       "      <td>good</td>\n",
       "      <td>seasonal</td>\n",
       "      <td>seasonal</td>\n",
       "      <td>rainwater harvesting</td>\n",
       "      <td>rainwater harvesting</td>\n",
       "      <td>surface</td>\n",
       "      <td>communal standpipe</td>\n",
       "      <td>communal standpipe</td>\n",
       "      <td>functional</td>\n",
       "    </tr>\n",
       "  </tbody>\n",
       "</table>\n",
       "<p>5 rows × 41 columns</p>\n",
       "</div>"
      ],
      "text/plain": [
       "      id  amount_tsh date_recorded        funder  gps_height     installer  \\\n",
       "0  69572      6000.0    2011-03-14         Roman        1390         Roman   \n",
       "1   8776         0.0    2013-03-06       Grumeti        1399       GRUMETI   \n",
       "2  34310        25.0    2013-02-25  Lottery Club         686  World vision   \n",
       "3  67743         0.0    2013-01-28        Unicef         263        UNICEF   \n",
       "4  19728         0.0    2011-07-13   Action In A           0       Artisan   \n",
       "\n",
       "   longitude   latitude              wpt_name  num_private  ... water_quality  \\\n",
       "0  34.938093  -9.856322                  none            0  ...          soft   \n",
       "1  34.698766  -2.147466              Zahanati            0  ...          soft   \n",
       "2  37.460664  -3.821329           Kwa Mahundi            0  ...          soft   \n",
       "3  38.486161 -11.155298  Zahanati Ya Nanyumbu            0  ...          soft   \n",
       "4  31.130847  -1.825359               Shuleni            0  ...          soft   \n",
       "\n",
       "  quality_group      quantity  quantity_group                source  \\\n",
       "0          good        enough          enough                spring   \n",
       "1          good  insufficient    insufficient  rainwater harvesting   \n",
       "2          good        enough          enough                   dam   \n",
       "3          good           dry             dry           machine dbh   \n",
       "4          good      seasonal        seasonal  rainwater harvesting   \n",
       "\n",
       "            source_type source_class              waterpoint_type  \\\n",
       "0                spring  groundwater           communal standpipe   \n",
       "1  rainwater harvesting      surface           communal standpipe   \n",
       "2                   dam      surface  communal standpipe multiple   \n",
       "3              borehole  groundwater  communal standpipe multiple   \n",
       "4  rainwater harvesting      surface           communal standpipe   \n",
       "\n",
       "  waterpoint_type_group    status_group  \n",
       "0    communal standpipe      functional  \n",
       "1    communal standpipe      functional  \n",
       "2    communal standpipe      functional  \n",
       "3    communal standpipe  non functional  \n",
       "4    communal standpipe      functional  \n",
       "\n",
       "[5 rows x 41 columns]"
      ]
     },
     "execution_count": 2,
     "metadata": {},
     "output_type": "execute_result"
    }
   ],
   "source": [
    "features = pd.read_csv('../data/4910797b-ee55-40a7-8668-10efd5c1b960.csv')\n",
    "target = pd.read_csv('../data/0bf8bc6e-30d0-4c50-956a-603fc693d966.csv')\n",
    "combined_df = pd.concat([features,target['status_group']],axis=1)\n",
    "combined_df.head()"
   ]
  },
  {
   "cell_type": "markdown",
   "metadata": {},
   "source": [
    "After extensive EDA, Ahmad decided to drop the 'extraction_type', 'extraction_type_group', 'payment', 'quality_group', 'quantity_group', 'source_type', 'waterpoint_type_group', 'funder', 'installer', 'wpt_name', 'subvillage', 'lga', 'ward', 'recorded_by', 'scheme_name', 'id', and 'num_private' columns as he determined they would be unhelpful in training his model to distinguish between OK wells and those in need of repair.\n",
    "###### See ahmad_eda.ipynb to see more about his EDA"
   ]
  },
  {
   "cell_type": "code",
   "execution_count": 3,
   "metadata": {},
   "outputs": [
    {
     "name": "stdout",
     "output_type": "stream",
     "text": [
      "<class 'pandas.core.frame.DataFrame'>\n",
      "RangeIndex: 59400 entries, 0 to 59399\n",
      "Data columns (total 24 columns):\n",
      " #   Column                 Non-Null Count  Dtype  \n",
      "---  ------                 --------------  -----  \n",
      " 0   amount_tsh             59400 non-null  float64\n",
      " 1   date_recorded          59400 non-null  object \n",
      " 2   gps_height             59400 non-null  int64  \n",
      " 3   longitude              59400 non-null  float64\n",
      " 4   latitude               59400 non-null  float64\n",
      " 5   basin                  59400 non-null  object \n",
      " 6   region                 59400 non-null  object \n",
      " 7   region_code            59400 non-null  int64  \n",
      " 8   district_code          59400 non-null  int64  \n",
      " 9   population             59400 non-null  int64  \n",
      " 10  public_meeting         56066 non-null  object \n",
      " 11  scheme_management      55523 non-null  object \n",
      " 12  permit                 56344 non-null  object \n",
      " 13  construction_year      59400 non-null  int64  \n",
      " 14  extraction_type_class  59400 non-null  object \n",
      " 15  management             59400 non-null  object \n",
      " 16  management_group       59400 non-null  object \n",
      " 17  payment_type           59400 non-null  object \n",
      " 18  water_quality          59400 non-null  object \n",
      " 19  quantity               59400 non-null  object \n",
      " 20  source                 59400 non-null  object \n",
      " 21  source_class           59400 non-null  object \n",
      " 22  waterpoint_type        59400 non-null  object \n",
      " 23  status_group           59400 non-null  object \n",
      "dtypes: float64(3), int64(5), object(16)\n",
      "memory usage: 10.9+ MB\n"
     ]
    }
   ],
   "source": [
    "cols_to_drop = ['extraction_type', 'extraction_type_group', 'payment', \n",
    "                'quality_group', 'quantity_group', 'source_type', \n",
    "                'waterpoint_type_group','funder','installer','wpt_name',\n",
    "                'subvillage','lga','ward','recorded_by','scheme_name','id', \n",
    "                'num_private']\n",
    "\n",
    "keep_columns = [col for col in combined_df.columns if(col not in cols_to_drop)]\n",
    "\n",
    "combined_final_df = combined_df[keep_columns].copy()\n",
    "\n",
    "combined_final_df.info()"
   ]
  },
  {
   "cell_type": "markdown",
   "metadata": {},
   "source": [
    "Ahmad discovered that there were a large number of construction years recorded as 0, obviously a placeholder for an unknown quantity. He aimed to approximate missing construction years with the 'date_recorded' column and engineer this into a new feature of the DataFrame."
   ]
  },
  {
   "cell_type": "code",
   "execution_count": 4,
   "metadata": {},
   "outputs": [
    {
     "name": "stdout",
     "output_type": "stream",
     "text": [
      "construction year greater 0:  0.6513636363636364\n",
      "construction year = 0: 0.34863636363636363\n"
     ]
    },
    {
     "data": {
      "text/plain": [
       "4771.0"
      ]
     },
     "execution_count": 4,
     "metadata": {},
     "output_type": "execute_result"
    },
    {
     "data": {
      "image/png": "[encoded data removed]",
      "text/plain": [
       "<Figure size 432x288 with 1 Axes>"
      ]
     },
     "metadata": {
      "needs_background": "light"
     },
     "output_type": "display_data"
    }
   ],
   "source": [
    "date_df = combined_final_df[['date_recorded','construction_year']].copy()\n",
    "date_df['rev_construction_year'] = date_df[\n",
    "    'construction_year'].map(\n",
    "    lambda x: pd.to_datetime(x,format='%Y').toordinal() if(x>0) else None)\n",
    "\n",
    "date_df['rev_date_recorded'] = date_df[\n",
    "    'date_recorded'].map(lambda x: pd.to_datetime(x).toordinal())\n",
    "above_zero = date_df[date_df['construction_year'] > 0].copy()\n",
    "print('construction year greater 0: ', len(above_zero)/len(date_df))\n",
    "print('construction year = 0:',date_df['rev_construction_year'].isna().sum()/len(date_df))\n",
    "above_zero['difference'] = above_zero['rev_date_recorded'] - above_zero['rev_construction_year']\n",
    "sns.histplot(data=above_zero,x='difference');\n",
    "difference = above_zero['rev_date_recorded'].median() - above_zero['rev_construction_year'].median()\n",
    "difference"
   ]
  },
  {
   "cell_type": "code",
   "execution_count": 5,
   "metadata": {},
   "outputs": [
    {
     "data": {
      "text/html": [
       "<div>\n",
       "<style scoped>\n",
       "    .dataframe tbody tr th:only-of-type {\n",
       "        vertical-align: middle;\n",
       "    }\n",
       "\n",
       "    .dataframe tbody tr th {\n",
       "        vertical-align: top;\n",
       "    }\n",
       "\n",
       "    .dataframe thead th {\n",
       "        text-align: right;\n",
       "    }\n",
       "</style>\n",
       "<table border=\"1\" class=\"dataframe\">\n",
       "  <thead>\n",
       "    <tr style=\"text-align: right;\">\n",
       "      <th></th>\n",
       "      <th>date_recorded</th>\n",
       "      <th>rev_date_recorded</th>\n",
       "      <th>construction_year</th>\n",
       "      <th>rev_construction_year</th>\n",
       "    </tr>\n",
       "  </thead>\n",
       "  <tbody>\n",
       "    <tr>\n",
       "      <th>0</th>\n",
       "      <td>2011-03-14</td>\n",
       "      <td>734210</td>\n",
       "      <td>1999</td>\n",
       "      <td>729755.0</td>\n",
       "    </tr>\n",
       "    <tr>\n",
       "      <th>1</th>\n",
       "      <td>2013-03-06</td>\n",
       "      <td>734933</td>\n",
       "      <td>2010</td>\n",
       "      <td>733773.0</td>\n",
       "    </tr>\n",
       "    <tr>\n",
       "      <th>2</th>\n",
       "      <td>2013-02-25</td>\n",
       "      <td>734924</td>\n",
       "      <td>2009</td>\n",
       "      <td>733408.0</td>\n",
       "    </tr>\n",
       "    <tr>\n",
       "      <th>3</th>\n",
       "      <td>2013-01-28</td>\n",
       "      <td>734896</td>\n",
       "      <td>1986</td>\n",
       "      <td>725007.0</td>\n",
       "    </tr>\n",
       "    <tr>\n",
       "      <th>4</th>\n",
       "      <td>2011-07-13</td>\n",
       "      <td>734331</td>\n",
       "      <td>0</td>\n",
       "      <td>729560.0</td>\n",
       "    </tr>\n",
       "    <tr>\n",
       "      <th>...</th>\n",
       "      <td>...</td>\n",
       "      <td>...</td>\n",
       "      <td>...</td>\n",
       "      <td>...</td>\n",
       "    </tr>\n",
       "    <tr>\n",
       "      <th>59395</th>\n",
       "      <td>2013-05-03</td>\n",
       "      <td>734991</td>\n",
       "      <td>1999</td>\n",
       "      <td>729755.0</td>\n",
       "    </tr>\n",
       "    <tr>\n",
       "      <th>59396</th>\n",
       "      <td>2011-05-07</td>\n",
       "      <td>734264</td>\n",
       "      <td>1996</td>\n",
       "      <td>728659.0</td>\n",
       "    </tr>\n",
       "    <tr>\n",
       "      <th>59397</th>\n",
       "      <td>2011-04-11</td>\n",
       "      <td>734238</td>\n",
       "      <td>0</td>\n",
       "      <td>729467.0</td>\n",
       "    </tr>\n",
       "    <tr>\n",
       "      <th>59398</th>\n",
       "      <td>2011-03-08</td>\n",
       "      <td>734204</td>\n",
       "      <td>0</td>\n",
       "      <td>729433.0</td>\n",
       "    </tr>\n",
       "    <tr>\n",
       "      <th>59399</th>\n",
       "      <td>2011-03-23</td>\n",
       "      <td>734219</td>\n",
       "      <td>2002</td>\n",
       "      <td>730851.0</td>\n",
       "    </tr>\n",
       "  </tbody>\n",
       "</table>\n",
       "<p>59400 rows × 4 columns</p>\n",
       "</div>"
      ],
      "text/plain": [
       "      date_recorded  rev_date_recorded  construction_year  \\\n",
       "0        2011-03-14             734210               1999   \n",
       "1        2013-03-06             734933               2010   \n",
       "2        2013-02-25             734924               2009   \n",
       "3        2013-01-28             734896               1986   \n",
       "4        2011-07-13             734331                  0   \n",
       "...             ...                ...                ...   \n",
       "59395    2013-05-03             734991               1999   \n",
       "59396    2011-05-07             734264               1996   \n",
       "59397    2011-04-11             734238                  0   \n",
       "59398    2011-03-08             734204                  0   \n",
       "59399    2011-03-23             734219               2002   \n",
       "\n",
       "       rev_construction_year  \n",
       "0                   729755.0  \n",
       "1                   733773.0  \n",
       "2                   733408.0  \n",
       "3                   725007.0  \n",
       "4                   729560.0  \n",
       "...                      ...  \n",
       "59395               729755.0  \n",
       "59396               728659.0  \n",
       "59397               729467.0  \n",
       "59398               729433.0  \n",
       "59399               730851.0  \n",
       "\n",
       "[59400 rows x 4 columns]"
      ]
     },
     "execution_count": 5,
     "metadata": {},
     "output_type": "execute_result"
    }
   ],
   "source": [
    "# Create a new column 'rev_construction_year' and if year greater than zero \n",
    "# change to ordinal and if equal to zero\n",
    "combined_final_df['rev_date_recorded'] = combined_final_df[\n",
    "    'date_recorded'].map(lambda x: pd.to_datetime(x).toordinal())\n",
    "combined_final_df['rev_construction_year'] = combined_final_df[\n",
    "    'construction_year'].map(\n",
    "    lambda x: pd.to_datetime(x,format='%Y').toordinal() if(x>0) else None)\n",
    "\n",
    "combined_final_df.rev_construction_year.fillna(\n",
    "    value=(combined_final_df.rev_date_recorded - difference),inplace=True)\n",
    "\n",
    "combined_final_df[['date_recorded','rev_date_recorded',\n",
    "                   'construction_year','rev_construction_year']]\n"
   ]
  },
  {
   "cell_type": "markdown",
   "metadata": {},
   "source": [
    "Next, Ahmad finalized his data to train his models on."
   ]
  },
  {
   "cell_type": "code",
   "execution_count": 6,
   "metadata": {},
   "outputs": [
    {
     "data": {
      "text/plain": [
       "0    32259\n",
       "1    27141\n",
       "Name: rev_status, dtype: int64"
      ]
     },
     "execution_count": 6,
     "metadata": {},
     "output_type": "execute_result"
    }
   ],
   "source": [
    "# create a 'rev_status' colum, assign 0 if 'status_group' equals functional\n",
    "# and assign 1 if 'status_grou' eqauls not functional or functional needs repair \n",
    "combined_final_df['rev_status'] = combined_final_df['status_group'].map(lambda x: 0 if(x == 'functional') else 1)\n",
    "combined_final_df['rev_status'].value_counts()"
   ]
  },
  {
   "cell_type": "code",
   "execution_count": 7,
   "metadata": {},
   "outputs": [
    {
     "name": "stdout",
     "output_type": "stream",
     "text": [
      "<class 'pandas.core.frame.DataFrame'>\n",
      "RangeIndex: 59400 entries, 0 to 59399\n",
      "Data columns (total 23 columns):\n",
      " #   Column                 Non-Null Count  Dtype  \n",
      "---  ------                 --------------  -----  \n",
      " 0   amount_tsh             59400 non-null  float64\n",
      " 1   gps_height             59400 non-null  int64  \n",
      " 2   longitude              59400 non-null  float64\n",
      " 3   latitude               59400 non-null  float64\n",
      " 4   basin                  59400 non-null  object \n",
      " 5   region                 59400 non-null  object \n",
      " 6   region_code            59400 non-null  int64  \n",
      " 7   district_code          59400 non-null  int64  \n",
      " 8   population             59400 non-null  int64  \n",
      " 9   public_meeting         56066 non-null  object \n",
      " 10  scheme_management      55523 non-null  object \n",
      " 11  permit                 56344 non-null  object \n",
      " 12  extraction_type_class  59400 non-null  object \n",
      " 13  management             59400 non-null  object \n",
      " 14  management_group       59400 non-null  object \n",
      " 15  payment_type           59400 non-null  object \n",
      " 16  water_quality          59400 non-null  object \n",
      " 17  quantity               59400 non-null  object \n",
      " 18  source                 59400 non-null  object \n",
      " 19  source_class           59400 non-null  object \n",
      " 20  waterpoint_type        59400 non-null  object \n",
      " 21  rev_date_recorded      59400 non-null  int64  \n",
      " 22  rev_construction_year  59400 non-null  float64\n",
      "dtypes: float64(4), int64(5), object(14)\n",
      "memory usage: 10.4+ MB\n"
     ]
    }
   ],
   "source": [
    "# drop redundent columns 'construction_year', 'status_groups' and date_recorded\n",
    "# split dataframe into features and target copies\n",
    "final_features = combined_final_df.drop(['construction_year','status_group',\n",
    "                                   'rev_status','date_recorded'],axis=1).copy()\n",
    "final_target = combined_final_df['rev_status'].copy()\n",
    "final_features.info()"
   ]
  },
  {
   "cell_type": "markdown",
   "metadata": {},
   "source": [
    "Ahmad would use this data to first build a dummy model, then move on to more advanced ones."
   ]
  },
  {
   "cell_type": "code",
   "execution_count": 8,
   "metadata": {},
   "outputs": [],
   "source": [
    "X_train, X_test, y_train, y_test = train_test_split(final_features,\n",
    "                                                   final_target,\n",
    "                                                   random_state=1234,\n",
    "                                                   stratify=final_target)\n",
    "\n",
    "X_train_nums = X_train.select_dtypes(['float64','int64'])\n",
    "X_train_cats = X_train.select_dtypes('object')"
   ]
  },
  {
   "cell_type": "code",
   "execution_count": 9,
   "metadata": {},
   "outputs": [],
   "source": [
    "def plot_roc_curve(y_train,y_predict,model_name):\n",
    "    #fig,ax = plt.subplots(figsize=(10,10))\n",
    "    fpr, tpr, thresholds = roc_curve(y_train, y_predict)\n",
    "    roc_auc = auc(fpr, tpr)\n",
    "    display = RocCurveDisplay(fpr=fpr, tpr=tpr, roc_auc=roc_auc,\n",
    "                                   estimator_name='Base Model')\n",
    "    display.plot();   "
   ]
  },
  {
   "cell_type": "markdown",
   "metadata": {},
   "source": [
    "Here, Ahmad built his Pipelines, using the <b/>median</b> to impute missing numerical data, and using the <b/>most frequent</b> item for categorical."
   ]
  },
  {
   "cell_type": "code",
   "execution_count": 10,
   "metadata": {},
   "outputs": [],
   "source": [
    "# Setup numerical and categorical pipeline and incorporate both into\n",
    "# ColumnTransformer\n",
    "num_pipeline = Pipeline(steps=[\n",
    "    ('num_impute',SimpleImputer(strategy='median')),\n",
    "    ('num_ss',StandardScaler())])\n",
    "\n",
    "cat_pipeline = Pipeline(steps=[\n",
    "    ('cat_impute',SimpleImputer(strategy='most_frequent')),\n",
    "    ('cat_ohe', OneHotEncoder(sparse=False,handle_unknown='ignore'))])\n",
    "\n",
    "cat_pipeline2 = Pipeline(steps=[\n",
    "    ('cat_impute',SimpleImputer(strategy='most_frequent')),\n",
    "    ('cat_ord',OrdinalEncoder())])\n",
    "\n",
    "trans = ColumnTransformer(transformers=[\n",
    "    ('numerical',num_pipeline,X_train_nums.columns),\n",
    "    ('categorical',cat_pipeline,X_train_cats.columns)])\n",
    "\n",
    "trans2 = ColumnTransformer(transformers=[\n",
    "    ('numerical',num_pipeline,X_train_nums.columns),\n",
    "    ('categorical',cat_pipeline,X_train_cats.columns)])"
   ]
  },
  {
   "cell_type": "code",
   "execution_count": 11,
   "metadata": {},
   "outputs": [],
   "source": [
    "### COMMENTED OUT FOR SAKE OF BREVITY\n",
    "\n",
    "# Fit base_model, do validation on train and predict score for test\n",
    "# Plot confusion matrix and ROC curve for base_model\n",
    "\n",
    "#base_model_pipe = Pipeline(steps=[\n",
    "#    ('trans',trans),\n",
    "#    ('dummy_model',DummyClassifier(random_state=1234,strategy='prior'))])\n",
    "\n",
    "#base_model_pipe.fit(X_train,y_train)\n",
    "#y_train_base_pred = base_model_pipe.predict(X_train)\n",
    "#scores = cross_validate(base_model_pipe,X_train,y_train,scoring=['recall',\n",
    "#                                                                'accuracy'])\n",
    "#fit_time = 'fit_time'\n",
    "#score_time = 'score_time'\n",
    "#recall = 'test_recall'\n",
    "#accuracy = 'test_accuracy'\n",
    "#print(f'Validation train mean recall score: {scores[recall].mean()}')\n",
    "#print(f'Validation train mean accuracy score: {scores[accuracy].mean()}')\n",
    "#print(f'Validation train mean fit time: {scores[fit_time].mean()}')\n",
    "#print(f'Validation train mean score time: {scores[score_time].mean()}')\n",
    "#print('='*40)\n",
    "#print(f'Train recall score: {recall_score(y_train,y_train_base_pred)}')\n",
    "#print(f'Train accuracy score: {base_model_pipe.score(X_train, y_train)}')\n",
    "#print('='*40)\n",
    "#plot_confusion_matrix(base_model_pipe,X_train,y_train);\n",
    "#plot_roc_curve(y_train,y_train_base_pred,'Base_model')"
   ]
  },
  {
   "cell_type": "markdown",
   "metadata": {},
   "source": [
    "Finally, Ahmad would build three types of models: a Decision Tree model, a KNN model, and a Logistic Regression model."
   ]
  },
  {
   "cell_type": "code",
   "execution_count": 12,
   "metadata": {},
   "outputs": [],
   "source": [
    "### COMMENTED OUT FOR SAKE OF BREVITY\n",
    "\n",
    "#dt_model_pipe = Pipeline(steps=[\n",
    "#    ('trans',trans),\n",
    "#    ('dtree_model',DecisionTreeClassifier(random_state=1234))])\n",
    "\n",
    "#dt_parameters = {\n",
    "#    'dtree_model__max_depth': [60,90],   #tried 3,5,10,30,60(best),90\n",
    "#    'dtree_model__min_impurity_decrease' : [0,0.3],\n",
    "#    'dtree_model__max_features' : ['auto','sqrt']\n",
    "#}\n",
    "\n",
    "#dtree_grid_model = GridSearchCV(estimator = dt_model_pipe,\n",
    "#                          param_grid=dt_parameters,refit='recall',\n",
    "#                         scoring=['recall','accuracy'])\n",
    "\n",
    "#dtree_grid_model.fit(X_train,y_train)\n",
    "#y_train_dt_pred = dtree_grid_model.predict(X_train)\n",
    "#cv_results = pd.DataFrame([dtree_grid_model.cv_results_])\n",
    "#accuracy = 'mean_test_accuracy'\n",
    "#print('='*40)\n",
    "#print(f'Train recall score: {dtree_grid_model.best_score_}')\n",
    "#print(f'Train accuracy score: {cv_results[accuracy].mean()}')\n",
    "#print(f'Best paramets: {dtree_grid_model.best_params_}')\n",
    "#print('='*40)\n",
    "#print(confusion_matrix(y_train,y_train_dt_pred))\n",
    "#plot_confusion_matrix(dtree_grid_model,X_train,y_train);\n",
    "#plot_roc_curve(y_train,y_train_dt_pred,'Decision Tree')\n",
    "#cv_results"
   ]
  },
  {
   "cell_type": "code",
   "execution_count": 13,
   "metadata": {},
   "outputs": [],
   "source": [
    "### COMMENTED OUT FOR SAKE OF BREVITY\n",
    "\n",
    "#knn_model_pipe = Pipeline(steps=[\n",
    "#    ('trans',trans),\n",
    "#    ('knn_model',KNeighborsClassifier())])\n",
    "\n",
    "#knn_parameters = {\n",
    "#    'knn_model__n_neighbors' : [3], #tried 3(best),5,10\n",
    "#    'knn_model__weights' : ['uniform','distance'],   #tried ['uniform','distance'] distance(best)\n",
    "#    'knn_model__leaf_size' : [15,30,45]\n",
    "#}\n",
    "\n",
    "#knn_grid_model = GridSearchCV(estimator = knn_model_pipe,\n",
    "#                          param_grid=knn_parameters,refit='recall',\n",
    "#                          scoring=['recall','accuracy'])\n",
    "\n",
    "#knn_grid_model.fit(X_train,y_train)\n",
    "#y_train_knn_pred = knn_grid_model.predict(X_train)\n",
    "#cv_results = pd.DataFrame([knn_grid_model.cv_results_])\n",
    "#accuracy = 'mean_test_accuracy'\n",
    "#print('='*40)\n",
    "#print(f'Train recall score: {knn_grid_model.best_score_}')\n",
    "#print(f'Train accuracy score: {cv_results[accuracy].mean()}')\n",
    "#print(f'Best paramets: {knn_grid_model.best_params_}')\n",
    "#print('='*40)\n",
    "#print(confusion_matrix(y_train,y_train_knn_pred))\n",
    "#plot_confusion_matrix(knn_grid_model,X_train,y_train);\n",
    "#plot_roc_curve(y_train,y_train_knn_pred,'k-Nearest Neighbors')\n",
    "#cv_results"
   ]
  },
  {
   "cell_type": "code",
   "execution_count": 14,
   "metadata": {},
   "outputs": [],
   "source": [
    "### COMMENTED OUT FOR SAKE OF BREVITY\n",
    "\n",
    "#lr_model_pipe = Pipeline(steps=[\n",
    "#    ('trans2',trans2),\n",
    "#    ('lr_model',LogisticRegression())])\n",
    "\n",
    "#lr_parameters = {\n",
    "#    'lr_model__penalty' : ['l2','l1','elasticnet'],\n",
    "#    'lr_model__random_state' : [1234],\n",
    "#    'lr_model__C' : [1e3,1e6,1e9],  #tried 1e-3,1,10e3 and 10e9\n",
    "#    'lr_model__max_iter' : [1e2,1e3,1e4],  #tried 1e4\n",
    "#    'lr_model__solver' : ['newton-cg','lbfgs','liblinear'] #tried also  and \n",
    "#}\n",
    "\n",
    "#lr_grid_model = GridSearchCV(estimator = lr_model_pipe,\n",
    "#                          param_grid=lr_parameters,refit='recall',\n",
    "#                          scoring=['recall','accuracy'])\n",
    "\n",
    "#lr_grid_model.fit(X_train,y_train)\n",
    "#y_train_lr_pred = lr_grid_model.predict(X_train)\n",
    "#cv_results = pd.DataFrame([lr_grid_model.cv_results_])\n",
    "#accuracy = 'mean_test_accuracy'\n",
    "#print('='*40)\n",
    "#print(f'Train recall score: {lr_grid_model.best_score_}')\n",
    "#print(f'Train accuracy score: {cv_results[accuracy].mean()}')\n",
    "#print(f'Best paramets: {lr_grid_model.best_params_}')\n",
    "#print('='*40)\n",
    "#print(confusion_matrix(y_train,y_train_lr_pred))\n",
    "#plot_confusion_matrix(lr_grid_model,X_train,y_train);\n",
    "#plot_roc_curve(y_train,y_train_lr_pred,'Logistic Regression')\n",
    "#cv_results"
   ]
  },
  {
   "cell_type": "markdown",
   "metadata": {},
   "source": [
    "The models scored the following recall scores:\n",
    "<ul/>\n",
    "  <li/><b/>DT</b>: .7512</li>\n",
    "  <li/><b/>KNN</b>: .7482</li>\n",
    "  <li/><b/>LR</b>: .6920</li>\n",
    "</ul>"
   ]
  },
  {
   "cell_type": "markdown",
   "metadata": {},
   "source": [
    "#### Nick\n",
    "\n",
    "Nick opted to write a function to clean and load his data. He decided to drop the 'id', 'num_private', 'construction_year', 'scheme_name', 'extraction_type', 'extraction_type_group', 'payment_type', 'water_quality', 'quantity_group', 'source', and 'waterpoint_type_group' columns; very similar to how Ahmad cleaned his data, with some exceptions.\n",
    "\n",
    "One notable one is that, on seeing that over 35% of the data in 'construction_year' column was missing, Nick decided to <b/>not</b> include this in his training data.\n",
    "###### See functions.py for more information on how Nick cleaned his data"
   ]
  },
  {
   "cell_type": "code",
   "execution_count": 15,
   "metadata": {},
   "outputs": [
    {
     "data": {
      "text/html": [
       "<div>\n",
       "<style scoped>\n",
       "    .dataframe tbody tr th:only-of-type {\n",
       "        vertical-align: middle;\n",
       "    }\n",
       "\n",
       "    .dataframe tbody tr th {\n",
       "        vertical-align: top;\n",
       "    }\n",
       "\n",
       "    .dataframe thead th {\n",
       "        text-align: right;\n",
       "    }\n",
       "</style>\n",
       "<table border=\"1\" class=\"dataframe\">\n",
       "  <thead>\n",
       "    <tr style=\"text-align: right;\">\n",
       "      <th></th>\n",
       "      <th>status_group</th>\n",
       "      <th>needs_repair</th>\n",
       "      <th>amount_tsh</th>\n",
       "      <th>date_recorded</th>\n",
       "      <th>funder</th>\n",
       "      <th>gps_height</th>\n",
       "      <th>installer</th>\n",
       "      <th>longitude</th>\n",
       "      <th>latitude</th>\n",
       "      <th>wpt_name</th>\n",
       "      <th>...</th>\n",
       "      <th>permit</th>\n",
       "      <th>extraction_type_class</th>\n",
       "      <th>management</th>\n",
       "      <th>management_group</th>\n",
       "      <th>payment</th>\n",
       "      <th>quality_group</th>\n",
       "      <th>quantity</th>\n",
       "      <th>source_type</th>\n",
       "      <th>source_class</th>\n",
       "      <th>waterpoint_type</th>\n",
       "    </tr>\n",
       "  </thead>\n",
       "  <tbody>\n",
       "    <tr>\n",
       "      <th>0</th>\n",
       "      <td>functional</td>\n",
       "      <td>1</td>\n",
       "      <td>6000.0</td>\n",
       "      <td>2011-03-14</td>\n",
       "      <td>Roman</td>\n",
       "      <td>1390</td>\n",
       "      <td>Roman</td>\n",
       "      <td>34.938093</td>\n",
       "      <td>-9.856322</td>\n",
       "      <td>none</td>\n",
       "      <td>...</td>\n",
       "      <td>0.0</td>\n",
       "      <td>gravity</td>\n",
       "      <td>vwc</td>\n",
       "      <td>user-group</td>\n",
       "      <td>pay annually</td>\n",
       "      <td>good</td>\n",
       "      <td>enough</td>\n",
       "      <td>spring</td>\n",
       "      <td>groundwater</td>\n",
       "      <td>communal standpipe</td>\n",
       "    </tr>\n",
       "    <tr>\n",
       "      <th>1</th>\n",
       "      <td>functional</td>\n",
       "      <td>1</td>\n",
       "      <td>0.0</td>\n",
       "      <td>2013-03-06</td>\n",
       "      <td>Grumeti</td>\n",
       "      <td>1399</td>\n",
       "      <td>GRUMETI</td>\n",
       "      <td>34.698766</td>\n",
       "      <td>-2.147466</td>\n",
       "      <td>Zahanati</td>\n",
       "      <td>...</td>\n",
       "      <td>1.0</td>\n",
       "      <td>gravity</td>\n",
       "      <td>wug</td>\n",
       "      <td>user-group</td>\n",
       "      <td>never pay</td>\n",
       "      <td>good</td>\n",
       "      <td>insufficient</td>\n",
       "      <td>rainwater harvesting</td>\n",
       "      <td>surface</td>\n",
       "      <td>communal standpipe</td>\n",
       "    </tr>\n",
       "    <tr>\n",
       "      <th>2</th>\n",
       "      <td>functional</td>\n",
       "      <td>1</td>\n",
       "      <td>25.0</td>\n",
       "      <td>2013-02-25</td>\n",
       "      <td>Lottery Club</td>\n",
       "      <td>686</td>\n",
       "      <td>World vision</td>\n",
       "      <td>37.460664</td>\n",
       "      <td>-3.821329</td>\n",
       "      <td>Kwa Mahundi</td>\n",
       "      <td>...</td>\n",
       "      <td>1.0</td>\n",
       "      <td>gravity</td>\n",
       "      <td>vwc</td>\n",
       "      <td>user-group</td>\n",
       "      <td>pay per bucket</td>\n",
       "      <td>good</td>\n",
       "      <td>enough</td>\n",
       "      <td>dam</td>\n",
       "      <td>surface</td>\n",
       "      <td>communal standpipe multiple</td>\n",
       "    </tr>\n",
       "    <tr>\n",
       "      <th>3</th>\n",
       "      <td>non functional</td>\n",
       "      <td>0</td>\n",
       "      <td>0.0</td>\n",
       "      <td>2013-01-28</td>\n",
       "      <td>Unicef</td>\n",
       "      <td>263</td>\n",
       "      <td>UNICEF</td>\n",
       "      <td>38.486161</td>\n",
       "      <td>-11.155298</td>\n",
       "      <td>Zahanati Ya Nanyumbu</td>\n",
       "      <td>...</td>\n",
       "      <td>1.0</td>\n",
       "      <td>submersible</td>\n",
       "      <td>vwc</td>\n",
       "      <td>user-group</td>\n",
       "      <td>never pay</td>\n",
       "      <td>good</td>\n",
       "      <td>dry</td>\n",
       "      <td>borehole</td>\n",
       "      <td>groundwater</td>\n",
       "      <td>communal standpipe multiple</td>\n",
       "    </tr>\n",
       "    <tr>\n",
       "      <th>4</th>\n",
       "      <td>functional</td>\n",
       "      <td>1</td>\n",
       "      <td>0.0</td>\n",
       "      <td>2011-07-13</td>\n",
       "      <td>Action In A</td>\n",
       "      <td>0</td>\n",
       "      <td>Artisan</td>\n",
       "      <td>31.130847</td>\n",
       "      <td>-1.825359</td>\n",
       "      <td>Shuleni</td>\n",
       "      <td>...</td>\n",
       "      <td>1.0</td>\n",
       "      <td>gravity</td>\n",
       "      <td>other</td>\n",
       "      <td>other</td>\n",
       "      <td>never pay</td>\n",
       "      <td>good</td>\n",
       "      <td>seasonal</td>\n",
       "      <td>rainwater harvesting</td>\n",
       "      <td>surface</td>\n",
       "      <td>communal standpipe</td>\n",
       "    </tr>\n",
       "  </tbody>\n",
       "</table>\n",
       "<p>5 rows × 31 columns</p>\n",
       "</div>"
      ],
      "text/plain": [
       "     status_group  needs_repair  amount_tsh date_recorded        funder  \\\n",
       "0      functional             1      6000.0    2011-03-14         Roman   \n",
       "1      functional             1         0.0    2013-03-06       Grumeti   \n",
       "2      functional             1        25.0    2013-02-25  Lottery Club   \n",
       "3  non functional             0         0.0    2013-01-28        Unicef   \n",
       "4      functional             1         0.0    2011-07-13   Action In A   \n",
       "\n",
       "   gps_height     installer  longitude   latitude              wpt_name  ...  \\\n",
       "0        1390         Roman  34.938093  -9.856322                  none  ...   \n",
       "1        1399       GRUMETI  34.698766  -2.147466              Zahanati  ...   \n",
       "2         686  World vision  37.460664  -3.821329           Kwa Mahundi  ...   \n",
       "3         263        UNICEF  38.486161 -11.155298  Zahanati Ya Nanyumbu  ...   \n",
       "4           0       Artisan  31.130847  -1.825359               Shuleni  ...   \n",
       "\n",
       "  permit extraction_type_class management  management_group         payment  \\\n",
       "0    0.0               gravity        vwc        user-group    pay annually   \n",
       "1    1.0               gravity        wug        user-group       never pay   \n",
       "2    1.0               gravity        vwc        user-group  pay per bucket   \n",
       "3    1.0           submersible        vwc        user-group       never pay   \n",
       "4    1.0               gravity      other             other       never pay   \n",
       "\n",
       "  quality_group      quantity           source_type  source_class  \\\n",
       "0          good        enough                spring   groundwater   \n",
       "1          good  insufficient  rainwater harvesting       surface   \n",
       "2          good        enough                   dam       surface   \n",
       "3          good           dry              borehole   groundwater   \n",
       "4          good      seasonal  rainwater harvesting       surface   \n",
       "\n",
       "               waterpoint_type  \n",
       "0           communal standpipe  \n",
       "1           communal standpipe  \n",
       "2  communal standpipe multiple  \n",
       "3  communal standpipe multiple  \n",
       "4           communal standpipe  \n",
       "\n",
       "[5 rows x 31 columns]"
      ]
     },
     "execution_count": 15,
     "metadata": {},
     "output_type": "execute_result"
    }
   ],
   "source": [
    "X, y, comb_df = load_clean_XY('../data/4910797b-ee55-40a7-8668-10efd5c1b960.csv', '../data/0bf8bc6e-30d0-4c50-956a-603fc693d966.csv')\n",
    "comb_df.head()"
   ]
  },
  {
   "cell_type": "code",
   "execution_count": 16,
   "metadata": {},
   "outputs": [],
   "source": [
    "X_train, X_test, y_train, y_test = train_test_split(X, y, stratify=y, test_size=.5, random_state=1)\n",
    "\n",
    "X_train_num = X_train.select_dtypes(['float64','int64', 'int32', 'int'])\n",
    "X_train_cat = X_train.select_dtypes('object')"
   ]
  },
  {
   "cell_type": "markdown",
   "metadata": {},
   "source": [
    "Here, Nick built his pipelines; however, Nick opted to use the <b/>mean</b> to impute missing numerical data, and to use <b/>\"None\"</b> to fill missing values for categorical data."
   ]
  },
  {
   "cell_type": "code",
   "execution_count": 17,
   "metadata": {},
   "outputs": [],
   "source": [
    "pipeline_num = Pipeline([('impute_num', SimpleImputer(strategy='mean')), \\\n",
    "  ('scaler_num', StandardScaler())])\n",
    "\n",
    "pipeline_cat = Pipeline([('impute_cat', SimpleImputer(strategy='constant', fill_value='None')), \\\n",
    "  ('ohe_cat', OneHotEncoder(handle_unknown='ignore', sparse=False))])\n",
    "\n",
    "preprocess_transform = ColumnTransformer([('numeric', pipeline_num, X_train_num.columns.tolist()), \\\n",
    "  ('categorical', pipeline_cat, X_train_cat.columns.tolist())])\n",
    "\n",
    "pipeline_LR = Pipeline([('preprocess_LR', preprocess_transform), \\\n",
    "  ('model_LR', LogisticRegression(random_state=1))])\n",
    "\n",
    "pipeline_KNN = Pipeline([('preprocess_KNN', preprocess_transform), \\\n",
    "  ('model_KNN', KNeighborsClassifier())])\n",
    "\n",
    "pipeline_DT = Pipeline([('preprocess_DT', preprocess_transform), \\\n",
    "  ('model_DT', DecisionTreeClassifier())])\n",
    "\n",
    "pipeline_RF = Pipeline([('preprocess_RF', preprocess_transform), \\\n",
    "  ('model_RF', RandomForestClassifier())])"
   ]
  },
  {
   "cell_type": "markdown",
   "metadata": {},
   "source": [
    "Due to technical difficulties, Nick only ended up being able to create one Logistic Regression model."
   ]
  },
  {
   "cell_type": "code",
   "execution_count": 18,
   "metadata": {},
   "outputs": [],
   "source": [
    "def validate_model(search, X_train, X_test, y_train, y_test):\n",
    "  search.fit(X_train, y_train)\n",
    "  y_test_pred = search.predict(X_test)\n",
    "  cv_results = pd.DataFrame([search.cv_results_])\n",
    "  # accuracy = 'mean_test_accuracy'\n",
    "  print(f'Train recall score: {search.best_score_}')\n",
    "  print(f'Test recall score: {recall_score(y_test, y_test_pred)}')\n",
    "  print(f'Best parameters: {search.best_params_}')\n",
    "  plot_confusion_matrix(search, X_train, y_train)\n",
    "  return search.cv_results_, search.best_params_"
   ]
  },
  {
   "cell_type": "code",
   "execution_count": 19,
   "metadata": {},
   "outputs": [],
   "source": [
    "### COMMENTED OUT FOR SAKE OF BREVITY\n",
    "\n",
    "#params_LR = {'model_LR__penalty': ['l2', 'none']} # got warnings for l1 & elasticnet\n",
    "\n",
    "#search_LR = GridSearchCV(pipeline_LR, params_LR, cv=10, scoring=['recall', 'accuracy'], refit='recall')\n",
    "\n",
    "#cv_LR, best_params_LR = validate_model(search_LR, X_train, X_test, y_train, y_test)"
   ]
  },
  {
   "cell_type": "markdown",
   "metadata": {},
   "source": [
    "This model performed the best out of any model, scoring a train recall score of <b/>.8472</b> and a test recall score of <b/>.8381</b>. This model was then saved with joblib for future use."
   ]
  },
  {
   "cell_type": "markdown",
   "metadata": {},
   "source": [
    "### Evaluation"
   ]
  },
  {
   "cell_type": "markdown",
   "metadata": {},
   "source": [
    "Since Nick's Logistic Regression model performed the best out of all created models, a closer look was taken at the model."
   ]
  },
  {
   "cell_type": "code",
   "execution_count": 20,
   "metadata": {},
   "outputs": [],
   "source": [
    "X, y, comb_df = load_clean_XY('../data/4910797b-ee55-40a7-8668-10efd5c1b960.csv', '../data/0bf8bc6e-30d0-4c50-956a-603fc693d966.csv')\n",
    "\n",
    "X_train, X_test, y_train, y_test = train_test_split(X, y, stratify=y, test_size=.5, random_state=1)\n",
    "\n",
    "search_LR = load('./models/search_LR.joblib')\n",
    "\n",
    "y_train_pred = search_LR.predict(X_train)\n",
    "y_test_pred = search_LR.predict(X_test)"
   ]
  },
  {
   "cell_type": "code",
   "execution_count": 21,
   "metadata": {},
   "outputs": [
    {
     "name": "stdout",
     "output_type": "stream",
     "text": [
      "Train recall score: 0.9383718767437534\n",
      "Test recall score: 0.8380657160570366\n",
      "Train accuracy score: 0.9035353535353535\n",
      "Test accuracy score: 0.7920202020202021\n"
     ]
    }
   ],
   "source": [
    "print(f'Train recall score: {recall_score(y_train, y_train_pred)}')\n",
    "print(f'Test recall score: {recall_score(y_test, y_test_pred)}')\n",
    "print(f'Train accuracy score: {accuracy_score(y_train, y_train_pred)}')\n",
    "print(f'Test accuracy score: {accuracy_score(y_test, y_test_pred)}')"
   ]
  },
  {
   "cell_type": "markdown",
   "metadata": {},
   "source": [
    "From this model, the coefficients were able to be obtained since this was a parametric model."
   ]
  },
  {
   "cell_type": "code",
   "execution_count": 22,
   "metadata": {},
   "outputs": [
    {
     "data": {
      "text/plain": [
       "{'amount_tsh': 0.056698643007545006,\n",
       " 'date_recorded': 0.11690939289757442,\n",
       " 'funder': -0.17204008317969535,\n",
       " 'gps_height': -0.24016351180101295,\n",
       " 'installer': -0.23901387944658126,\n",
       " 'longitude': 0.14146123974311225,\n",
       " 'latitude': 0.14391665718330585,\n",
       " 'wpt_name': 0.16186416973942985,\n",
       " 'basin': 0.059677007154556976,\n",
       " 'subvillage': 0.38261851612813114,\n",
       " 'region': -0.3265517289899449,\n",
       " 'region_code': 0.13095036199280807,\n",
       " 'district_code': -0.36521943551542113,\n",
       " 'lga': -0.4578687840799932,\n",
       " 'ward': 0.3685226026718488,\n",
       " 'population': 0.38886101822156477,\n",
       " 'public_meeting': 0.23879078012598154,\n",
       " 'recorded_by': 0.08407752995405184,\n",
       " 'scheme_management': -0.38024949989040574,\n",
       " 'permit': -0.6696484351654063,\n",
       " 'extraction_type_class': -0.28050244363904114,\n",
       " 'management': 0.8884304873667742,\n",
       " 'management_group': 0.03054341585912643,\n",
       " 'payment': -0.7934895667084235,\n",
       " 'quality_group': -0.7888579388773486,\n",
       " 'quantity': -0.030820758635276686,\n",
       " 'source_type': -0.13444792079937123,\n",
       " 'source_class': 0.625194944855616,\n",
       " 'waterpoint_type': -0.013010735072028325}"
      ]
     },
     "execution_count": 22,
     "metadata": {},
     "output_type": "execute_result"
    }
   ],
   "source": [
    "coefs_LR = search_LR.best_estimator_.named_steps.model_LR.coef_.tolist()[0]\n",
    "dict_coefs_LR = dict(zip(list(X.columns), coefs_LR))\n",
    "dict_coefs_LR"
   ]
  },
  {
   "cell_type": "markdown",
   "metadata": {},
   "source": [
    "Some of the highest weighted coefficients were 'management', 'payment', and 'permit', so their relationship with 'repair_status' was investigated."
   ]
  },
  {
   "cell_type": "markdown",
   "metadata": {},
   "source": [
    "### Management and repair status"
   ]
  },
  {
   "cell_type": "code",
   "execution_count": 23,
   "metadata": {},
   "outputs": [
    {
     "data": {
      "text/html": [
       "<div>\n",
       "<style scoped>\n",
       "    .dataframe tbody tr th:only-of-type {\n",
       "        vertical-align: middle;\n",
       "    }\n",
       "\n",
       "    .dataframe tbody tr th {\n",
       "        vertical-align: top;\n",
       "    }\n",
       "\n",
       "    .dataframe thead th {\n",
       "        text-align: right;\n",
       "    }\n",
       "</style>\n",
       "<table border=\"1\" class=\"dataframe\">\n",
       "  <thead>\n",
       "    <tr style=\"text-align: right;\">\n",
       "      <th></th>\n",
       "      <th>needs_repair</th>\n",
       "      <th>management</th>\n",
       "    </tr>\n",
       "  </thead>\n",
       "  <tbody>\n",
       "    <tr>\n",
       "      <th>0</th>\n",
       "      <td>1</td>\n",
       "      <td>vwc</td>\n",
       "    </tr>\n",
       "    <tr>\n",
       "      <th>1</th>\n",
       "      <td>1</td>\n",
       "      <td>wug</td>\n",
       "    </tr>\n",
       "    <tr>\n",
       "      <th>2</th>\n",
       "      <td>1</td>\n",
       "      <td>vwc</td>\n",
       "    </tr>\n",
       "    <tr>\n",
       "      <th>3</th>\n",
       "      <td>0</td>\n",
       "      <td>vwc</td>\n",
       "    </tr>\n",
       "    <tr>\n",
       "      <th>4</th>\n",
       "      <td>1</td>\n",
       "      <td>other</td>\n",
       "    </tr>\n",
       "  </tbody>\n",
       "</table>\n",
       "</div>"
      ],
      "text/plain": [
       "   needs_repair management\n",
       "0             1        vwc\n",
       "1             1        wug\n",
       "2             1        vwc\n",
       "3             0        vwc\n",
       "4             1      other"
      ]
     },
     "execution_count": 23,
     "metadata": {},
     "output_type": "execute_result"
    }
   ],
   "source": [
    "repair_management = comb_df[['needs_repair', 'management']]\n",
    "repair_management.head()"
   ]
  },
  {
   "cell_type": "code",
   "execution_count": 24,
   "metadata": {},
   "outputs": [
    {
     "data": {
      "text/plain": [
       "vwc                 40507\n",
       "wug                  6515\n",
       "water board          2933\n",
       "wua                  2535\n",
       "private operator     1971\n",
       "parastatal           1768\n",
       "water authority       904\n",
       "other                 844\n",
       "company               685\n",
       "unknown               561\n",
       "other - school         99\n",
       "trust                  78\n",
       "Name: management, dtype: int64"
      ]
     },
     "execution_count": 24,
     "metadata": {},
     "output_type": "execute_result"
    }
   ],
   "source": [
    "repair_management.management.value_counts()"
   ]
  },
  {
   "cell_type": "code",
   "execution_count": 25,
   "metadata": {},
   "outputs": [
    {
     "data": {
      "text/plain": [
       "vwc                 20425\n",
       "wug                  3906\n",
       "water board          2170\n",
       "wua                  1751\n",
       "private operator     1476\n",
       "parastatal           1020\n",
       "other                 505\n",
       "water authority       446\n",
       "company               267\n",
       "unknown               224\n",
       "trust                  46\n",
       "other - school         23\n",
       "Name: management, dtype: int64"
      ]
     },
     "execution_count": 25,
     "metadata": {},
     "output_type": "execute_result"
    }
   ],
   "source": [
    "repair_management.loc[repair_management.needs_repair == 1].management.value_counts()"
   ]
  },
  {
   "cell_type": "code",
   "execution_count": 26,
   "metadata": {},
   "outputs": [
    {
     "data": {
      "text/plain": [
       "private operator    0.748858\n",
       "water board         0.739857\n",
       "wua                 0.690730\n",
       "wug                 0.599540\n",
       "other               0.598341\n",
       "trust               0.589744\n",
       "parastatal          0.576923\n",
       "vwc                 0.504234\n",
       "water authority     0.493363\n",
       "unknown             0.399287\n",
       "company             0.389781\n",
       "other - school      0.232323\n",
       "Name: management, dtype: float64"
      ]
     },
     "execution_count": 26,
     "metadata": {},
     "output_type": "execute_result"
    }
   ],
   "source": [
    "repair_perc_by_management = repair_management.loc[repair_management.needs_repair == 1].management.value_counts() / repair_management.management.value_counts()\n",
    "repair_perc_by_management.sort_values(ascending=False, inplace=True)\n",
    "repair_perc_by_management"
   ]
  },
  {
   "cell_type": "code",
   "execution_count": 27,
   "metadata": {},
   "outputs": [
    {
     "data": {
      "image/png": "[encoded data removed]",
      "text/plain": [
       "<Figure size 576x432 with 1 Axes>"
      ]
     },
     "metadata": {
      "needs_background": "light"
     },
     "output_type": "display_data"
    }
   ],
   "source": [
    "fig, ax = plt.subplots(figsize=(8,6))\n",
    "ax.bar(repair_perc_by_management.index, repair_perc_by_management.values)\n",
    "ax.set_xlabel('Management')\n",
    "ax.set_ylabel('Percentage of wells in need of repair')\n",
    "ax.yaxis.set_major_formatter(mtick.PercentFormatter(1))\n",
    "plt.xticks(rotation=50);"
   ]
  },
  {
   "cell_type": "markdown",
   "metadata": {},
   "source": [
    "### Payment and repair"
   ]
  },
  {
   "cell_type": "code",
   "execution_count": 28,
   "metadata": {},
   "outputs": [
    {
     "data": {
      "text/html": [
       "<div>\n",
       "<style scoped>\n",
       "    .dataframe tbody tr th:only-of-type {\n",
       "        vertical-align: middle;\n",
       "    }\n",
       "\n",
       "    .dataframe tbody tr th {\n",
       "        vertical-align: top;\n",
       "    }\n",
       "\n",
       "    .dataframe thead th {\n",
       "        text-align: right;\n",
       "    }\n",
       "</style>\n",
       "<table border=\"1\" class=\"dataframe\">\n",
       "  <thead>\n",
       "    <tr style=\"text-align: right;\">\n",
       "      <th></th>\n",
       "      <th>needs_repair</th>\n",
       "      <th>payment</th>\n",
       "    </tr>\n",
       "  </thead>\n",
       "  <tbody>\n",
       "    <tr>\n",
       "      <th>0</th>\n",
       "      <td>1</td>\n",
       "      <td>pay annually</td>\n",
       "    </tr>\n",
       "    <tr>\n",
       "      <th>1</th>\n",
       "      <td>1</td>\n",
       "      <td>never pay</td>\n",
       "    </tr>\n",
       "    <tr>\n",
       "      <th>2</th>\n",
       "      <td>1</td>\n",
       "      <td>pay per bucket</td>\n",
       "    </tr>\n",
       "    <tr>\n",
       "      <th>3</th>\n",
       "      <td>0</td>\n",
       "      <td>never pay</td>\n",
       "    </tr>\n",
       "    <tr>\n",
       "      <th>4</th>\n",
       "      <td>1</td>\n",
       "      <td>never pay</td>\n",
       "    </tr>\n",
       "  </tbody>\n",
       "</table>\n",
       "</div>"
      ],
      "text/plain": [
       "   needs_repair         payment\n",
       "0             1    pay annually\n",
       "1             1       never pay\n",
       "2             1  pay per bucket\n",
       "3             0       never pay\n",
       "4             1       never pay"
      ]
     },
     "execution_count": 28,
     "metadata": {},
     "output_type": "execute_result"
    }
   ],
   "source": [
    "repair_payment = comb_df[['needs_repair', 'payment']]\n",
    "repair_payment.head()"
   ]
  },
  {
   "cell_type": "code",
   "execution_count": 29,
   "metadata": {},
   "outputs": [
    {
     "data": {
      "text/plain": [
       "pay annually             0.752334\n",
       "pay per bucket           0.677796\n",
       "pay monthly              0.660482\n",
       "pay when scheme fails    0.620593\n",
       "other                    0.579696\n",
       "never pay                0.448911\n",
       "unknown                  0.432512\n",
       "Name: payment, dtype: float64"
      ]
     },
     "execution_count": 29,
     "metadata": {},
     "output_type": "execute_result"
    }
   ],
   "source": [
    "repair_perc_by_payment = repair_payment.loc[repair_payment.needs_repair == 1].payment.value_counts() / repair_payment.payment.value_counts()\n",
    "repair_perc_by_payment.sort_values(ascending=False, inplace=True)\n",
    "repair_perc_by_payment"
   ]
  },
  {
   "cell_type": "code",
   "execution_count": 30,
   "metadata": {},
   "outputs": [
    {
     "data": {
      "image/png": "[encoded data removed]",
      "text/plain": [
       "<Figure size 576x432 with 1 Axes>"
      ]
     },
     "metadata": {
      "needs_background": "light"
     },
     "output_type": "display_data"
    }
   ],
   "source": [
    "fig, ax = plt.subplots(figsize=(8,6))\n",
    "ax.bar(repair_perc_by_payment.index, repair_perc_by_payment.values)\n",
    "ax.set_xlabel('Payment type')\n",
    "ax.set_ylabel('Percentage of wells in need of repair')\n",
    "ax.yaxis.set_major_formatter(mtick.PercentFormatter(1))\n",
    "plt.xticks(rotation=50);"
   ]
  },
  {
   "cell_type": "markdown",
   "metadata": {},
   "source": [
    "### Permit status and repair"
   ]
  },
  {
   "cell_type": "code",
   "execution_count": 31,
   "metadata": {},
   "outputs": [
    {
     "data": {
      "text/html": [
       "<div>\n",
       "<style scoped>\n",
       "    .dataframe tbody tr th:only-of-type {\n",
       "        vertical-align: middle;\n",
       "    }\n",
       "\n",
       "    .dataframe tbody tr th {\n",
       "        vertical-align: top;\n",
       "    }\n",
       "\n",
       "    .dataframe thead th {\n",
       "        text-align: right;\n",
       "    }\n",
       "</style>\n",
       "<table border=\"1\" class=\"dataframe\">\n",
       "  <thead>\n",
       "    <tr style=\"text-align: right;\">\n",
       "      <th></th>\n",
       "      <th>needs_repair</th>\n",
       "      <th>permit</th>\n",
       "    </tr>\n",
       "  </thead>\n",
       "  <tbody>\n",
       "    <tr>\n",
       "      <th>0</th>\n",
       "      <td>1</td>\n",
       "      <td>0.0</td>\n",
       "    </tr>\n",
       "    <tr>\n",
       "      <th>1</th>\n",
       "      <td>1</td>\n",
       "      <td>1.0</td>\n",
       "    </tr>\n",
       "    <tr>\n",
       "      <th>2</th>\n",
       "      <td>1</td>\n",
       "      <td>1.0</td>\n",
       "    </tr>\n",
       "    <tr>\n",
       "      <th>3</th>\n",
       "      <td>0</td>\n",
       "      <td>1.0</td>\n",
       "    </tr>\n",
       "    <tr>\n",
       "      <th>4</th>\n",
       "      <td>1</td>\n",
       "      <td>1.0</td>\n",
       "    </tr>\n",
       "  </tbody>\n",
       "</table>\n",
       "</div>"
      ],
      "text/plain": [
       "   needs_repair  permit\n",
       "0             1     0.0\n",
       "1             1     1.0\n",
       "2             1     1.0\n",
       "3             0     1.0\n",
       "4             1     1.0"
      ]
     },
     "execution_count": 31,
     "metadata": {},
     "output_type": "execute_result"
    }
   ],
   "source": [
    "repair_permit = comb_df[['needs_repair', 'permit']]\n",
    "repair_permit.head()"
   ]
  },
  {
   "cell_type": "code",
   "execution_count": 32,
   "metadata": {},
   "outputs": [
    {
     "data": {
      "text/plain": [
       "1.0    0.554437\n",
       "0.0    0.517094\n",
       "Name: permit, dtype: float64"
      ]
     },
     "execution_count": 32,
     "metadata": {},
     "output_type": "execute_result"
    }
   ],
   "source": [
    "repair_perc_by_permit = repair_permit.loc[repair_permit.needs_repair == 1].permit.value_counts() / repair_permit.permit.value_counts()\n",
    "repair_perc_by_permit.sort_values(ascending=False, inplace=True)\n",
    "repair_perc_by_permit"
   ]
  },
  {
   "cell_type": "code",
   "execution_count": 33,
   "metadata": {},
   "outputs": [
    {
     "data": {
      "image/png": "[encoded data removed]",
      "text/plain": [
       "<Figure size 576x432 with 1 Axes>"
      ]
     },
     "metadata": {
      "needs_background": "light"
     },
     "output_type": "display_data"
    }
   ],
   "source": [
    "fig, ax = plt.subplots(figsize=(8,6))\n",
    "ax.bar(repair_perc_by_permit.index.map({0: 'No permit', 1: 'Permit'}), repair_perc_by_permit.values)\n",
    "ax.set_xlabel('Permit status')\n",
    "ax.set_ylabel('Percentage of wells in need of repair')\n",
    "ax.yaxis.set_major_formatter(mtick.PercentFormatter(1))\n",
    "plt.xticks(rotation=50);"
   ]
  },
  {
   "cell_type": "markdown",
   "metadata": {},
   "source": [
    "From these findings, we inferred that certain water managements were a primary indicator of wells in disrepair, and that permit status and payment type also had a smaller (but real) correlation with repair status."
   ]
  },
  {
   "cell_type": "markdown",
   "metadata": {},
   "source": [
    "With these findings, we are able to make actionable feedback to the Tanzanian Water Ministry, as well as provide them with a working model that can be used in the future."
   ]
  }
 ],
 "metadata": {
  "kernelspec": {
   "display_name": "Python 3.8.5 ('learn-env')",
   "language": "python",
   "name": "python3"
  },
  "language_info": {
   "codemirror_mode": {
    "name": "ipython",
    "version": 3
   },
   "file_extension": ".py",
   "mimetype": "text/x-python",
   "name": "python",
   "nbconvert_exporter": "python",
   "pygments_lexer": "ipython3",
   "version": "3.8.5"
  },
  "orig_nbformat": 4,
  "vscode": {
   "interpreter": {
    "hash": "88e6fdba71888a8f44f9c7a72d9c8e02089decc52d209b00924c42afb6a002a6"
   }
  }
 },
 "nbformat": 4,
 "nbformat_minor": 2
}
