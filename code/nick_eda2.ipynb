{
 "cells": [
  {
   "cell_type": "code",
   "execution_count": 1,
   "metadata": {},
   "outputs": [],
   "source": [
    "import pandas as pd\n",
    "import numpy as np\n",
    "from joblib import dump, load\n",
    "from sklearn.linear_model import LogisticRegression\n",
    "from sklearn.model_selection import train_test_split\n",
    "from sklearn.metrics import recall_score, accuracy_score\n",
    "from functions import load_clean_XY"
   ]
  },
  {
   "cell_type": "code",
   "execution_count": 2,
   "metadata": {},
   "outputs": [],
   "source": [
    "X, y = load_clean_XY('../data/4910797b-ee55-40a7-8668-10efd5c1b960.csv', '../data/0bf8bc6e-30d0-4c50-956a-603fc693d966.csv')\n",
    "\n",
    "X_train, X_test, y_train, y_test = train_test_split(X, y, stratify=y, test_size=.5, random_state=1)\n",
    "\n",
    "search_LR = load('./models/search_LR.joblib')\n",
    "\n",
    "y_train_pred = search_LR.predict(X_train)\n",
    "y_test_pred = search_LR.predict(X_test)"
   ]
  },
  {
   "cell_type": "code",
   "execution_count": 3,
   "metadata": {},
   "outputs": [
    {
     "name": "stdout",
     "output_type": "stream",
     "text": [
      "Train recall score: 0.9383718767437534\n",
      "Test recall score: 0.8380657160570366\n",
      "Train accuracy score: 0.9035353535353535\n",
      "Test accuracy score: 0.7920202020202021\n"
     ]
    }
   ],
   "source": [
    "print(f'Train recall score: {recall_score(y_train, y_train_pred)}')\n",
    "print(f'Test recall score: {recall_score(y_test, y_test_pred)}')\n",
    "print(f'Train accuracy score: {accuracy_score(y_train, y_train_pred)}')\n",
    "print(f'Test accuracy score: {accuracy_score(y_test, y_test_pred)}')"
   ]
  }
 ],
 "metadata": {
  "kernelspec": {
   "display_name": "Python 3.8.5 ('learn-env')",
   "language": "python",
   "name": "python3"
  },
  "language_info": {
   "codemirror_mode": {
    "name": "ipython",
    "version": 3
   },
   "file_extension": ".py",
   "mimetype": "text/x-python",
   "name": "python",
   "nbconvert_exporter": "python",
   "pygments_lexer": "ipython3",
   "version": "3.8.5"
  },
  "orig_nbformat": 4,
  "vscode": {
   "interpreter": {
    "hash": "88e6fdba71888a8f44f9c7a72d9c8e02089decc52d209b00924c42afb6a002a6"
   }
  }
 },
 "nbformat": 4,
 "nbformat_minor": 2
}
